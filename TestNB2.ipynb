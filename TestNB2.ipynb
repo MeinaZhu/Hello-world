{
    "cells": [
        {
            "cell_type": "code",
            "execution_count": 3,
            "metadata": {},
            "outputs": [
                {
                    "data": {
                        "text/html": "<div>\n<style scoped>\n    .dataframe tbody tr th:only-of-type {\n        vertical-align: middle;\n    }\n\n    .dataframe tbody tr th {\n        vertical-align: top;\n    }\n\n    .dataframe thead th {\n        text-align: right;\n    }\n</style>\n<table border=\"1\" class=\"dataframe\">\n  <thead>\n    <tr style=\"text-align: right;\">\n      <th></th>\n      <th>Student</th>\n      <th>ID</th>\n      <th>SIS User ID</th>\n      <th>SIS Login ID</th>\n      <th>Section</th>\n      <th>Assignments Current Points</th>\n      <th>Assignments Final Points</th>\n      <th>Assignments Current Score</th>\n      <th>Assignments Unposted Current Score</th>\n      <th>Assignments Final Score</th>\n      <th>...</th>\n      <th>Imported Assignments Current Score</th>\n      <th>Imported Assignments Unposted Current Score</th>\n      <th>Imported Assignments Final Score</th>\n      <th>Imported Assignments Unposted Final Score</th>\n      <th>Current Points</th>\n      <th>Final Points</th>\n      <th>Current Score</th>\n      <th>Unposted Current Score</th>\n      <th>Final Score</th>\n      <th>Unposted Final Score</th>\n    </tr>\n  </thead>\n  <tbody>\n    <tr>\n      <th>0</th>\n      <td>Points Possible</td>\n      <td>NaN</td>\n      <td>NaN</td>\n      <td>NaN</td>\n      <td>NaN</td>\n      <td>(read only)</td>\n      <td>(read only)</td>\n      <td>(read only)</td>\n      <td>(read only)</td>\n      <td>(read only)</td>\n      <td>...</td>\n      <td>(read only)</td>\n      <td>(read only)</td>\n      <td>(read only)</td>\n      <td>(read only)</td>\n      <td>(read only)</td>\n      <td>(read only)</td>\n      <td>(read only)</td>\n      <td>(read only)</td>\n      <td>(read only)</td>\n      <td>(read only)</td>\n    </tr>\n    <tr>\n      <th>1</th>\n      <td>Braxton, Blake</td>\n      <td>131850.0</td>\n      <td>4063992.0</td>\n      <td>ee9415</td>\n      <td>Mobile Learning Technologies - Sec 001</td>\n      <td>0.00</td>\n      <td>0.00</td>\n      <td>NaN</td>\n      <td>NaN</td>\n      <td>NaN</td>\n      <td>...</td>\n      <td>NaN</td>\n      <td>NaN</td>\n      <td>NaN</td>\n      <td>NaN</td>\n      <td>0.00</td>\n      <td>0.00</td>\n      <td>NaN</td>\n      <td>NaN</td>\n      <td>NaN</td>\n      <td>NaN</td>\n    </tr>\n    <tr>\n      <th>2</th>\n      <td>Dunaway, Michelle</td>\n      <td>5213.0</td>\n      <td>408984.0</td>\n      <td>au8476</td>\n      <td>Mobile Learning Technologies - Sec 001</td>\n      <td>0.00</td>\n      <td>0.00</td>\n      <td>NaN</td>\n      <td>NaN</td>\n      <td>NaN</td>\n      <td>...</td>\n      <td>NaN</td>\n      <td>NaN</td>\n      <td>NaN</td>\n      <td>NaN</td>\n      <td>0.00</td>\n      <td>0.00</td>\n      <td>NaN</td>\n      <td>NaN</td>\n      <td>NaN</td>\n      <td>NaN</td>\n    </tr>\n    <tr>\n      <th>3</th>\n      <td>Heaney, Francis</td>\n      <td>161530.0</td>\n      <td>4895251.0</td>\n      <td>hj4018</td>\n      <td>Mobile Learning Technologies - Sec 001</td>\n      <td>0.00</td>\n      <td>0.00</td>\n      <td>NaN</td>\n      <td>NaN</td>\n      <td>NaN</td>\n      <td>...</td>\n      <td>NaN</td>\n      <td>NaN</td>\n      <td>NaN</td>\n      <td>NaN</td>\n      <td>0.00</td>\n      <td>0.00</td>\n      <td>NaN</td>\n      <td>NaN</td>\n      <td>NaN</td>\n      <td>NaN</td>\n    </tr>\n    <tr>\n      <th>4</th>\n      <td>Peck, Hope</td>\n      <td>130625.0</td>\n      <td>3624205.0</td>\n      <td>as5758</td>\n      <td>Mobile Learning Technologies - Sec 001</td>\n      <td>0.00</td>\n      <td>0.00</td>\n      <td>NaN</td>\n      <td>NaN</td>\n      <td>NaN</td>\n      <td>...</td>\n      <td>NaN</td>\n      <td>NaN</td>\n      <td>NaN</td>\n      <td>NaN</td>\n      <td>0.00</td>\n      <td>0.00</td>\n      <td>NaN</td>\n      <td>NaN</td>\n      <td>NaN</td>\n      <td>NaN</td>\n    </tr>\n  </tbody>\n</table>\n<p>5 rows \u00d7 23 columns</p>\n</div>",
                        "text/plain": "               Student        ID  SIS User ID SIS Login ID  \\\n0      Points Possible       NaN          NaN          NaN   \n1       Braxton, Blake  131850.0    4063992.0       ee9415   \n2    Dunaway, Michelle    5213.0     408984.0       au8476   \n3      Heaney, Francis  161530.0    4895251.0       hj4018   \n4           Peck, Hope  130625.0    3624205.0       as5758   \n\n                                  Section Assignments Current Points  \\\n0                                     NaN                (read only)   \n1  Mobile Learning Technologies - Sec 001                       0.00   \n2  Mobile Learning Technologies - Sec 001                       0.00   \n3  Mobile Learning Technologies - Sec 001                       0.00   \n4  Mobile Learning Technologies - Sec 001                       0.00   \n\n  Assignments Final Points Assignments Current Score  \\\n0              (read only)               (read only)   \n1                     0.00                       NaN   \n2                     0.00                       NaN   \n3                     0.00                       NaN   \n4                     0.00                       NaN   \n\n  Assignments Unposted Current Score Assignments Final Score  ...  \\\n0                        (read only)             (read only)  ...   \n1                                NaN                     NaN  ...   \n2                                NaN                     NaN  ...   \n3                                NaN                     NaN  ...   \n4                                NaN                     NaN  ...   \n\n  Imported Assignments Current Score  \\\n0                        (read only)   \n1                                NaN   \n2                                NaN   \n3                                NaN   \n4                                NaN   \n\n  Imported Assignments Unposted Current Score  \\\n0                                 (read only)   \n1                                         NaN   \n2                                         NaN   \n3                                         NaN   \n4                                         NaN   \n\n  Imported Assignments Final Score Imported Assignments Unposted Final Score  \\\n0                      (read only)                               (read only)   \n1                              NaN                                       NaN   \n2                              NaN                                       NaN   \n3                              NaN                                       NaN   \n4                              NaN                                       NaN   \n\n  Current Points Final Points Current Score Unposted Current Score  \\\n0    (read only)  (read only)   (read only)            (read only)   \n1           0.00         0.00           NaN                    NaN   \n2           0.00         0.00           NaN                    NaN   \n3           0.00         0.00           NaN                    NaN   \n4           0.00         0.00           NaN                    NaN   \n\n   Final Score Unposted Final Score  \n0  (read only)          (read only)  \n1          NaN                  NaN  \n2          NaN                  NaN  \n3          NaN                  NaN  \n4          NaN                  NaN  \n\n[5 rows x 23 columns]"
                    },
                    "execution_count": 3,
                    "metadata": {},
                    "output_type": "execute_result"
                }
            ],
            "source": "# The code was removed by Watson Studio for sharing."
        },
        {
            "cell_type": "code",
            "execution_count": null,
            "metadata": {},
            "outputs": [],
            "source": ""
        }
    ],
    "metadata": {
        "kernelspec": {
            "display_name": "Python 3.8",
            "language": "python",
            "name": "python3"
        },
        "language_info": {
            "codemirror_mode": {
                "name": "ipython",
                "version": 3
            },
            "file_extension": ".py",
            "mimetype": "text/x-python",
            "name": "python",
            "nbconvert_exporter": "python",
            "pygments_lexer": "ipython3",
            "version": "3.8.11"
        }
    },
    "nbformat": 4,
    "nbformat_minor": 1
}